{
  "nbformat": 4,
  "nbformat_minor": 0,
  "metadata": {
    "colab": {
      "provenance": [],
      "authorship_tag": "ABX9TyMQd4zV1+D2xFs2iW+Qa3QY",
      "include_colab_link": true
    },
    "kernelspec": {
      "name": "python3",
      "display_name": "Python 3"
    },
    "language_info": {
      "name": "python"
    }
  },
  "cells": [
    {
      "cell_type": "markdown",
      "metadata": {
        "id": "view-in-github",
        "colab_type": "text"
      },
      "source": [
        "<a href=\"https://colab.research.google.com/github/dsbaek0928/code_example/blob/main/example.ipynb\" target=\"_parent\"><img src=\"https://colab.research.google.com/assets/colab-badge.svg\" alt=\"Open In Colab\"/></a>"
      ]
    },
    {
      "cell_type": "code",
      "execution_count": null,
      "metadata": {
        "colab": {
          "base_uri": "https://localhost:8080/"
        },
        "id": "fY58Io-8BeHd",
        "outputId": "c68e1360-f9fc-47ee-fccf-e958743b4520"
      },
      "outputs": [
        {
          "output_type": "stream",
          "name": "stdout",
          "text": [
            "이름: 김파이썬\n",
            "나이: 25세\n",
            "키: 175.5cm\n",
            "학생 여부: True\n",
            "\n",
            "name의 자료형: <class 'str'>\n",
            "age의 자료형: <class 'int'>\n"
          ]
        }
      ],
      "source": [
        "# 다양한 자료형의 변수 선언\n",
        "name = \"김파이썬\"          # 문자열 (str)\n",
        "age = 25                  # 정수 (int)\n",
        "height = 175.5            # 실수 (float)\n",
        "is_student = True         # 불린 (bool)\n",
        "\n",
        "# f-string을 사용한 출력\n",
        "print(f\"이름: {name}\")\n",
        "print(f\"나이: {age}세\")\n",
        "print(f\"키: {height}cm\")\n",
        "print(f\"학생 여부: {is_student}\")\n",
        "\n",
        "# 자료형 확인\n",
        "print(f\"\\nname의 자료형: {type(name)}\")\n",
        "print(f\"age의 자료형: {type(age)}\")\n"
      ]
    },
    {
      "cell_type": "code",
      "source": [],
      "metadata": {
        "id": "KbnOip7hGsFr"
      },
      "execution_count": null,
      "outputs": []
    }
  ]
}